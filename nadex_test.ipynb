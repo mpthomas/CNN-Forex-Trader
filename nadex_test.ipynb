{
 "cells": [
  {
   "cell_type": "code",
   "execution_count": 60,
   "metadata": {},
   "outputs": [],
   "source": [
    "from stock_util.nadex import Nadex\n",
    "from datetime import date, datetime,timedelta\n",
    "import pandas as pd\n",
    "import numpy as np\n",
    "import time\n",
    "import math\n",
    "import re\n",
    "\n"
   ]
  },
  {
   "cell_type": "code",
   "execution_count": 61,
   "metadata": {},
   "outputs": [
    {
     "name": "stdout",
     "output_type": "stream",
     "text": [
      "Finished getting login\n"
     ]
    }
   ],
   "source": [
    "import json\n",
    "\n",
    "from oandapyV20 import API\n",
    "from oandapyV20.exceptions import V20Error\n",
    "import oandapyV20.endpoints.instruments as instruments\n",
    "from oandapyV20.definitions.instruments import CandlestickGranularity\n",
    "#from exampleauth import exampleAuth\n",
    "\n",
    "import json\n",
    "\n",
    "nadex=Nadex()\n"
   ]
  },
  {
   "cell_type": "code",
   "execution_count": 62,
   "metadata": {},
   "outputs": [],
   "source": [
    "def exampleAuth():\n",
    "    accountID, token = None, None\n",
    "    with open(\"account.txt\") as I:\n",
    "        accountID = I.read().strip()\n",
    "    with open(\"token.txt\") as I:\n",
    "        token = I.read().strip()\n",
    "    return accountID, token"
   ]
  },
  {
   "cell_type": "code",
   "execution_count": 63,
   "metadata": {},
   "outputs": [],
   "source": [
    "def get_quote_timeframe(minutesago=1):\n",
    "    accountID, access_token = exampleAuth()\n",
    "    params = {}\n",
    "    params.update({\"granularity\": \"M1\"})\n",
    "    params.update({\"count\": minutesago})\n",
    "    params.update({\"price\": \"BA\"})\n",
    "    r=instruments.InstrumentsCandles(instrument=\"EUR_USD\",params=params)\n",
    "    result=API(access_token).request(r)\n",
    "\n",
    "    print(\"{}\".format(json.dumps(result)))\n"
   ]
  },
  {
   "cell_type": "code",
   "execution_count": 64,
   "metadata": {},
   "outputs": [
    {
     "name": "stdout",
     "output_type": "stream",
     "text": [
      "{\"instrument\": \"EUR_USD\", \"granularity\": \"M1\", \"candles\": [{\"complete\": true, \"volume\": 11, \"time\": \"2019-06-28T20:58:00.000000000Z\", \"bid\": {\"o\": \"1.13691\", \"h\": \"1.13691\", \"l\": \"1.13679\", \"c\": \"1.13680\"}, \"ask\": {\"o\": \"1.13714\", \"h\": \"1.13717\", \"l\": \"1.13707\", \"c\": \"1.13717\"}}, {\"complete\": true, \"volume\": 12, \"time\": \"2019-06-28T20:59:00.000000000Z\", \"bid\": {\"o\": \"1.13662\", \"h\": \"1.13671\", \"l\": \"1.13646\", \"c\": \"1.13671\"}, \"ask\": {\"o\": \"1.13744\", \"h\": \"1.13771\", \"l\": \"1.13744\", \"c\": \"1.13771\"}}]}\n"
     ]
    }
   ],
   "source": [
    "get_quote_timeframe(2)"
   ]
  },
  {
   "cell_type": "code",
   "execution_count": 65,
   "metadata": {
    "scrolled": true
   },
   "outputs": [],
   "source": [
    "def login():\n",
    "    try:\n",
    "        #nadex=Nadex()\n",
    "        nadex.login()\n",
    "    except Exception as e:\n",
    "        print(e)"
   ]
  },
  {
   "cell_type": "code",
   "execution_count": null,
   "metadata": {},
   "outputs": [],
   "source": []
  },
  {
   "cell_type": "code",
   "execution_count": 66,
   "metadata": {},
   "outputs": [],
   "source": [
    "def get_contracts():\n",
    "    df = np.empty([3])\n",
    "    \n",
    "    p=re.compile(r'EUR/USD >(?P<price>\\d+\\.\\d+)\\s\\((?P<end_hour>\\d+)(?P<am_pm>\\w+)\\)')\n",
    "\n",
    "    try:\n",
    "        contracts=nadex.get_contracts()\n",
    "    except Exception as e:\n",
    "        print(e)\n",
    "\n",
    "    now=time.mktime(datetime.now().timetuple())\n",
    "\n",
    "    for contract in contracts:\n",
    "        m=p.search(contract)\n",
    "\n",
    "        if not m:\n",
    "            continue\n",
    "\n",
    "        price=m.group('price')\n",
    "        end_hour=m.group('end_hour')\n",
    "        am_pm=m.group('am_pm')\n",
    "\n",
    "        if(am_pm == \"PM\"):\n",
    "            hour24=int(end_hour)+12\n",
    "\n",
    "        if(am_pm == \"AM\" and end_hour==\"12\"):\n",
    "            hour24=\"00\"\n",
    "            end=datetime.now()+timedelta(hours=5) # append to next day. Assumes no options > 5 hours\n",
    "        else:\n",
    "            hour24=end_hour\n",
    "            end=datetime.now()\n",
    "\n",
    "        end=end.replace(hour=int(hour24),second=0,minute=0)\n",
    "        #end=end.replace(minute=0)\n",
    "        #end=end.replace(second=0)\n",
    "        #print (end)\n",
    "        end=time.mktime(end.timetuple())\n",
    "\n",
    "        minutes_left=math.floor((end-now) / 60)\n",
    "        \n",
    "        print(\"Price: \",price,\" End:\",end_hour,\" AM/PM:\",am_pm, \" 24h:\",hour24, \"Minutes Left: \",minutes_left)\n",
    "        df.append([price,hour24,minutes_left])\n",
    "    \n",
    "    return pd.Dataframe(data=df)"
   ]
  },
  {
   "cell_type": "code",
   "execution_count": 67,
   "metadata": {},
   "outputs": [
    {
     "name": "stdout",
     "output_type": "stream",
     "text": [
      "Found results iframe\n",
      "Message: \n",
      "\n",
      "Couldn't get contracts elements\n"
     ]
    },
    {
     "ename": "AttributeError",
     "evalue": "module 'pandas' has no attribute 'Dataframe'",
     "output_type": "error",
     "traceback": [
      "\u001b[0;31m---------------------------------------------------------------------------\u001b[0m",
      "\u001b[0;31mAttributeError\u001b[0m                            Traceback (most recent call last)",
      "\u001b[0;32m<ipython-input-67-87076538cd08>\u001b[0m in \u001b[0;36m<module>\u001b[0;34m\u001b[0m\n\u001b[1;32m      1\u001b[0m \u001b[0mlogin\u001b[0m\u001b[0;34m(\u001b[0m\u001b[0;34m)\u001b[0m\u001b[0;34m\u001b[0m\u001b[0;34m\u001b[0m\u001b[0m\n\u001b[0;32m----> 2\u001b[0;31m \u001b[0mdf\u001b[0m\u001b[0;34m=\u001b[0m\u001b[0mget_contracts\u001b[0m\u001b[0;34m(\u001b[0m\u001b[0;34m)\u001b[0m\u001b[0;34m\u001b[0m\u001b[0;34m\u001b[0m\u001b[0m\n\u001b[0m\u001b[1;32m      3\u001b[0m \u001b[0mprint\u001b[0m\u001b[0;34m(\u001b[0m\u001b[0mdf\u001b[0m\u001b[0;34m)\u001b[0m\u001b[0;34m\u001b[0m\u001b[0;34m\u001b[0m\u001b[0m\n",
      "\u001b[0;32m<ipython-input-66-383c04d35e37>\u001b[0m in \u001b[0;36mget_contracts\u001b[0;34m()\u001b[0m\n\u001b[1;32m     42\u001b[0m         \u001b[0mdf\u001b[0m\u001b[0;34m.\u001b[0m\u001b[0mappend\u001b[0m\u001b[0;34m(\u001b[0m\u001b[0;34m[\u001b[0m\u001b[0mprice\u001b[0m\u001b[0;34m,\u001b[0m\u001b[0mhour24\u001b[0m\u001b[0;34m,\u001b[0m\u001b[0mminutes_left\u001b[0m\u001b[0;34m]\u001b[0m\u001b[0;34m)\u001b[0m\u001b[0;34m\u001b[0m\u001b[0;34m\u001b[0m\u001b[0m\n\u001b[1;32m     43\u001b[0m \u001b[0;34m\u001b[0m\u001b[0m\n\u001b[0;32m---> 44\u001b[0;31m     \u001b[0;32mreturn\u001b[0m \u001b[0mpd\u001b[0m\u001b[0;34m.\u001b[0m\u001b[0mDataframe\u001b[0m\u001b[0;34m(\u001b[0m\u001b[0mdata\u001b[0m\u001b[0;34m=\u001b[0m\u001b[0mdf\u001b[0m\u001b[0;34m)\u001b[0m\u001b[0;34m\u001b[0m\u001b[0;34m\u001b[0m\u001b[0m\n\u001b[0m",
      "\u001b[0;31mAttributeError\u001b[0m: module 'pandas' has no attribute 'Dataframe'"
     ]
    }
   ],
   "source": [
    "login()\n",
    "df=get_contracts()\n",
    "print(df)"
   ]
  },
  {
   "cell_type": "code",
   "execution_count": null,
   "metadata": {},
   "outputs": [],
   "source": []
  },
  {
   "cell_type": "code",
   "execution_count": null,
   "metadata": {},
   "outputs": [],
   "source": [
    "nadex.driver.quit()"
   ]
  },
  {
   "cell_type": "code",
   "execution_count": null,
   "metadata": {},
   "outputs": [],
   "source": []
  }
 ],
 "metadata": {
  "kernelspec": {
   "display_name": "forexpredict",
   "language": "python",
   "name": "forexpredict"
  },
  "language_info": {
   "codemirror_mode": {
    "name": "ipython",
    "version": 3
   },
   "file_extension": ".py",
   "mimetype": "text/x-python",
   "name": "python",
   "nbconvert_exporter": "python",
   "pygments_lexer": "ipython3",
   "version": "3.7.3"
  }
 },
 "nbformat": 4,
 "nbformat_minor": 2
}
