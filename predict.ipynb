{
 "cells": [
  {
   "cell_type": "code",
   "execution_count": 1,
   "metadata": {},
   "outputs": [
    {
     "name": "stderr",
     "output_type": "stream",
     "text": [
      "Using TensorFlow backend.\n",
      "/usr/local/lib/python3.7/site-packages/requests/__init__.py:91: RequestsDependencyWarning: urllib3 (1.25.2) or chardet (3.0.4) doesn't match a supported version!\n",
      "  RequestsDependencyWarning)\n"
     ]
    }
   ],
   "source": [
    "import pandas as pd\n",
    "import numpy as np\n",
    "import random\n",
    "import matplotlib.pylab as plt\n",
    "import datetime\n",
    "import locale\n",
    "locale.setlocale(locale.LC_NUMERIC, \"\")\n",
    "import subprocess\n",
    "from stock_util.data_processor import DataLoader\n",
    "from stock_util.model import Model\n",
    "import math\n",
    "\n",
    "\n",
    "from keras.models import Sequential\n",
    "from keras.layers.core import Dense, Dropout, Activation, Flatten\n",
    "from keras.layers.recurrent import LSTM, GRU\n",
    "from keras.layers import Conv1D, MaxPooling1D, AtrousConvolution1D, RepeatVector\n",
    "from keras.callbacks import ModelCheckpoint, ReduceLROnPlateau, CSVLogger\n",
    "from keras.layers.wrappers import Bidirectional\n",
    "from keras import regularizers\n",
    "from keras.layers.normalization import BatchNormalization\n",
    "from keras.layers.advanced_activations import *\n",
    "from keras.optimizers import RMSprop, Adam, SGD, Nadam\n",
    "from keras.initializers import *\n",
    "from keras.backend import clear_session"
   ]
  },
  {
   "cell_type": "code",
   "execution_count": 2,
   "metadata": {},
   "outputs": [],
   "source": [
    "BID_QUERY='index=\"forex\" sourcetype=\"stock:quote:eur_usd\" NOT date_wday=\"saturday\" NOT date_wday=\"sunday\" earliest=\"4/15/2019:00:00:00\" latest=\"4/20/2019:00:00:00\"|where date_hour>=0 AND date_hour<17  | eval _time=strftime(_time,\"%m-%d-%Y-%H:%M:%S\") | eval bid.v=volume | eval ask.v=volume| table _time bid.o,bid.h,bid.l,bid.c,bid.v,date_wday,date_hour,date_minute,date_second | sort 0 _time'\n",
    "ASK_QUERY='index=\"forex\" sourcetype=\"stock:quote:eur_usd\" NOT date_wday=\"saturday\" NOT date_wday=\"sunday\" earliest=\"4/15/2019:00:00:00\" latest=\"4/20/2019:00:00:00\"| where date_hour>=0 AND date_hour<17  |eval _time=strftime(_time,\"%m-%d-%Y-%H:%M:%S\") | eval bid.v=volume | eval ask.v=volume| table _time ask.o,ask.h,ask.l,ask.c,ask.v,date_wday,date_hour,date_minute,date_second | sort 0 _time'"
   ]
  },
  {
   "cell_type": "code",
   "execution_count": 3,
   "metadata": {},
   "outputs": [],
   "source": [
    "loader=DataLoader()"
   ]
  },
  {
   "cell_type": "code",
   "execution_count": 4,
   "metadata": {},
   "outputs": [],
   "source": [
    "def get_data():\n",
    "    global loader\n",
    "    loader.set_queries(BID_QUERY,ASK_QUERY)\n",
    "    return loader.get_days(50000)"
   ]
  },
  {
   "cell_type": "code",
   "execution_count": 5,
   "metadata": {},
   "outputs": [
    {
     "name": "stdout",
     "output_type": "stream",
     "text": [
      "              Datetime   Open_x   High_x    Low_x  Close_x  Volume_x  \\\n",
      "0  04-15-2019-00:00:00  1.13115  1.13118  1.13111  1.13114    406.43   \n",
      "1  04-15-2019-00:01:00  1.13113  1.13117  1.13113  1.13115    368.70   \n",
      "2  04-15-2019-00:02:00  1.13114  1.13124  1.13114  1.13124    455.28   \n",
      "3  04-15-2019-00:03:00  1.13123  1.13129  1.13123  1.13123    441.73   \n",
      "4  04-15-2019-00:04:00  1.13123  1.13128  1.13123  1.13127    235.54   \n",
      "\n",
      "  Weekday_x   Open_y   High_y    Low_y  Close_y  Volume_y Weekday_y  \n",
      "0    monday  1.13111  1.13115  1.13110  1.13112    406.43    monday  \n",
      "1    monday  1.13112  1.13122  1.13112  1.13121    368.70    monday  \n",
      "2    monday  1.13121  1.13127  1.13120  1.13122    455.28    monday  \n",
      "3    monday  1.13121  1.13126  1.13121  1.13125    441.73    monday  \n",
      "4    monday  1.13126  1.13127  1.13122  1.13122    235.54    monday  \n",
      "                 Datetime   Open_x   High_x    Low_x  Close_x  Volume_x  \\\n",
      "5090  04-19-2019-16:54:00  1.12450  1.12470  1.12441  1.12441     99.59   \n",
      "5091  04-19-2019-16:55:00  1.12441  1.12444  1.12421  1.12421     88.22   \n",
      "5092  04-19-2019-16:56:00  1.12423  1.12469  1.12423  1.12449     33.05   \n",
      "5093  04-19-2019-16:57:00  1.12449  1.12454  1.12449  1.12454     25.26   \n",
      "5094  04-19-2019-16:58:00  1.12453  1.12477  1.12446  1.12469     34.89   \n",
      "\n",
      "     Weekday_x   Open_y   High_y    Low_y  Close_y  Volume_y Weekday_y  \n",
      "5090    friday  1.12424  1.12424  1.12401  1.12401     99.59    friday  \n",
      "5091    friday  1.12402  1.12411  1.12386  1.12411     88.22    friday  \n",
      "5092    friday  1.12412  1.12412  1.12411  1.12411     33.05    friday  \n",
      "5093    friday  1.12411  1.12412  1.12411  1.12411     25.26    friday  \n",
      "5094    friday  1.12411  1.12416  1.12408  1.12408     34.89    friday  \n"
     ]
    }
   ],
   "source": [
    "df=get_data()\n",
    "print(df.head())\n",
    "print(df.tail())"
   ]
  },
  {
   "cell_type": "code",
   "execution_count": 6,
   "metadata": {},
   "outputs": [],
   "source": [
    "def printvalue(array,i):\n",
    "    print(array[i][0])"
   ]
  },
  {
   "cell_type": "code",
   "execution_count": 44,
   "metadata": {},
   "outputs": [],
   "source": [
    "WINDOW=60\n",
    "FORECAST=90"
   ]
  },
  {
   "cell_type": "code",
   "execution_count": 45,
   "metadata": {},
   "outputs": [
    {
     "name": "stdout",
     "output_type": "stream",
     "text": [
      "Doing ternary tensor with time length of  5095  and  1 steps\n",
      "0 windows sized\n",
      "500 windows sized\n",
      "1000 windows sized\n",
      "1500 windows sized\n",
      "2000 windows sized\n",
      "2500 windows sized\n",
      "3000 windows sized\n",
      "3500 windows sized\n",
      "4000 windows sized\n",
      "Tensor X/Y len:  4345  /  4345\n",
      "\n",
      "Testing dataset dimension: [ 4341 / 4 ]\n",
      "\n"
     ]
    }
   ],
   "source": [
    "X_train, X_test, y_train, y_test = loader.get_train_test(df,0.001)\n",
    "loader.window=WINDOW\n",
    "loader.forecast=FORECAST\n",
    "model=Model(loader.window,10,\"test.h5\",\"forex.h5\",loader.forecast,50)\n",
    "model.set_logging(0)\n",
    "model.build_model()\n",
    "pred=model.predict(X_test)"
   ]
  },
  {
   "cell_type": "code",
   "execution_count": 91,
   "metadata": {},
   "outputs": [
    {
     "name": "stdout",
     "output_type": "stream",
     "text": [
      "3.407537339804756\n",
      "-3.431977669091021\n",
      "0.30354108217319203\n"
     ]
    }
   ],
   "source": [
    "X_test.shape\n",
    "frames=X_test[:]\n",
    "print(frames[:,3,3].max())\n",
    "print(frames[:,3,3].min())\n",
    "print(X_test[0,12,3])"
   ]
  },
  {
   "cell_type": "code",
   "execution_count": null,
   "metadata": {},
   "outputs": [],
   "source": []
  },
  {
   "cell_type": "code",
   "execution_count": 94,
   "metadata": {},
   "outputs": [],
   "source": [
    "\n",
    "    \n",
    "def zlimit_test(pred,X_test,y_test):\n",
    "    \n",
    "    actions = []\n",
    "    dev = []\n",
    "    right = 0\n",
    "    wrong = 0\n",
    "    \n",
    "    df_closes=df.Close_x.tolist()\n",
    "    dfs=X_test[:]\n",
    "    z_closes=dfs[:,3,3]\n",
    "    \n",
    "    for i in range(len(pred)):\n",
    "        #volatility[i]=math.sqrt(df.loc[i:loader.window-1].var())\n",
    "        \n",
    "        d=np.std(df_closes[i:i+loader.window],dtype=np.float32)\n",
    "        dev.append(d)\n",
    "        \n",
    "    #for limit in [49]:\n",
    "    minz=round(np.min(z_closes)*10,0)\n",
    "    maxz=round(np.max(z_closes)*10,0)\n",
    "    print (\"Using minz/maxz: \",str(minz),\"/\",str(maxz))\n",
    "\n",
    "    for zlimit in range(int(minz),int(maxz)):\n",
    "        actions=[]\n",
    "        right=0\n",
    "        wrong=0\n",
    "        limit=float(round(49/100,2))\n",
    "        zlimit=round(zlimit,3)\n",
    "        vol_skipped=0\n",
    "        z_skipped=0\n",
    "        \n",
    "        for x in range(len(pred)):\n",
    "            traded=0\n",
    "            right_wrong=\"\"\n",
    "            zscore=X_test[x][WINDOW-1][3].astype(float)\n",
    "            #print(\"Zscore:\",str(zscore))\n",
    "            zscore=int(zscore*10)\n",
    "            \n",
    "            if zscore > zlimit:\n",
    "                z_skipped=z_skipped+1\n",
    "                continue\n",
    "                \n",
    "            #if dev[x] < 0.0001:\n",
    "            #    vol_skipped=vol_skipped+1\n",
    "                #print(\"Skipping Vol:\", volatility[x])\n",
    "            #    continue\n",
    "                \n",
    "            if float(pred[x][0]-pred[x][2])>limit:\n",
    "                traded=1\n",
    "                if y_test[x][0]==1:\n",
    "                    right=right+1\n",
    "                    right_wrong=\"right\"\n",
    "                else:\n",
    "                    wrong=wrong+1\n",
    "                    right_wrong=\"wrong\"\n",
    "            elif float(pred[x][1]-pred[x][2])>limit:\n",
    "                traded=1\n",
    "                if y_test[x][1]==1:\n",
    "                    right=right+1\n",
    "                    right_wrong=\"right\"\n",
    "                else:\n",
    "                    wrong=wrong+1\n",
    "                    right_wrong=\"wrong\"\n",
    "            \n",
    "            #if traded > 0:\n",
    "            #    print(\"Right: \",str(right),\"Wrong: \",str(wrong),\" Volatility: \",str(volatility[x]), \" \",right_wrong)\n",
    "                    \n",
    "        if right > 0:\n",
    "            print (\"ZLIMIT: \",str(zlimit),\" RIGHT: \"+str(right)+\" | WRONG: \", str(wrong), \" | SKIP: \",str(vol_skipped), \" | ZSKIP: \",str(z_skipped),\" | RIGHT PERCENTAGE:\", str(round((right*100)/(right+wrong),1)),\"%\")\n",
    "\n",
    "    "
   ]
  },
  {
   "cell_type": "code",
   "execution_count": 141,
   "metadata": {},
   "outputs": [],
   "source": [
    "def stddev_test(pred,X_test,y_test):\n",
    "    \n",
    "    actions = []\n",
    "    dev = []\n",
    "    right = 0\n",
    "    wrong = 0\n",
    "    \n",
    "    df_closes=df.Close_x.tolist()\n",
    "    \n",
    "    for i in range(len(pred)):\n",
    "        #volatility[i]=math.sqrt(df.loc[i:loader.window-1].var())\n",
    "        \n",
    "        d=np.std(df_closes[i:i+WINDOW-1],dtype=np.float32)\n",
    "        dev.append(d)\n",
    "    \n",
    "    for limit in [49]:\n",
    "        actions=[]\n",
    "        right=0\n",
    "        wrong=0\n",
    "        limit=float(round(limit/100,2))\n",
    "        skipped=0\n",
    "        print(\"\\n\")\n",
    "        averages=[]\n",
    "        \n",
    "        for limit2 in np.arange(0.00004,0.0003,0.000010):\n",
    "            right=0\n",
    "            wrong=0\n",
    "            skipped=0\n",
    "            \n",
    "            for x in range(len(pred)):\n",
    "                traded=0\n",
    "                right_wrong=\"\"\n",
    "\n",
    "                if dev[x] < limit2:\n",
    "                    skipped=skipped+1\n",
    "                    #print(\"Skipping Vol:\", volatility[x])\n",
    "                    continue\n",
    "\n",
    "                if float(pred[x][0]-pred[x][2])>limit:\n",
    "                    traded=1\n",
    "                    if y_test[x][0]==1:\n",
    "                        right=right+1\n",
    "                        right_wrong=\"right\"\n",
    "                    else:\n",
    "                        wrong=wrong+1\n",
    "                        right_wrong=\"wrong\"\n",
    "                elif float(pred[x][1]-pred[x][2])>limit:\n",
    "                    traded=1\n",
    "                    if y_test[x][1]==1:\n",
    "                        right=right+1\n",
    "                        right_wrong=\"right\"\n",
    "                    else:\n",
    "                        wrong=wrong+1\n",
    "                        right_wrong=\"wrong\"\n",
    "\n",
    "                #if traded > 0:\n",
    "                #    print(\"Right: \",str(right),\"Wrong: \",str(wrong),\" Volatility: \",str(volatility[x]), \" \",right_wrong)\n",
    "\n",
    "            if right > 0:\n",
    "                avg=round((right*100)/(right+wrong),1)\n",
    "                averages.append(avg)\n",
    "                print (\"LIMIT: \",str(limit), \"LIMIT2: \",str(limit2),\" | RIGHT: \"+str(right)+\" | WRONG: \", str(wrong), \" | SKIP: \",str(skipped), \" | RIGHT PERCENTAGE:\", str(round((right*100)/(right+wrong),1)),\"%\")\n",
    "        print(\"Average/Min/Max For LIMIT \",str(limit),\" : \",str(round(np.mean(averages),1)),\"/\",str(round(np.min(averages),1)),\"/\",str(round(np.max(averages),1)))"
   ]
  },
  {
   "cell_type": "code",
   "execution_count": 142,
   "metadata": {},
   "outputs": [
    {
     "name": "stdout",
     "output_type": "stream",
     "text": [
      "\n",
      "\n",
      "LIMIT:  0.49 LIMIT2:  4e-05  | RIGHT: 375 | WRONG:  303  | SKIP:  18  | RIGHT PERCENTAGE: 55.3 %\n",
      "LIMIT:  0.49 LIMIT2:  5e-05  | RIGHT: 374 | WRONG:  303  | SKIP:  51  | RIGHT PERCENTAGE: 55.2 %\n",
      "LIMIT:  0.49 LIMIT2:  6e-05  | RIGHT: 365 | WRONG:  286  | SKIP:  146  | RIGHT PERCENTAGE: 56.1 %\n",
      "LIMIT:  0.49 LIMIT2:  7e-05  | RIGHT: 359 | WRONG:  265  | SKIP:  273  | RIGHT PERCENTAGE: 57.5 %\n",
      "LIMIT:  0.49 LIMIT2:  7.999999999999999e-05  | RIGHT: 357 | WRONG:  254  | SKIP:  353  | RIGHT PERCENTAGE: 58.4 %\n",
      "LIMIT:  0.49 LIMIT2:  8.999999999999999e-05  | RIGHT: 347 | WRONG:  239  | SKIP:  534  | RIGHT PERCENTAGE: 59.2 %\n",
      "LIMIT:  0.49 LIMIT2:  9.999999999999999e-05  | RIGHT: 314 | WRONG:  226  | SKIP:  765  | RIGHT PERCENTAGE: 58.1 %\n",
      "LIMIT:  0.49 LIMIT2:  0.00010999999999999999  | RIGHT: 309 | WRONG:  212  | SKIP:  899  | RIGHT PERCENTAGE: 59.3 %\n",
      "LIMIT:  0.49 LIMIT2:  0.00011999999999999999  | RIGHT: 306 | WRONG:  203  | SKIP:  1010  | RIGHT PERCENTAGE: 60.1 %\n",
      "LIMIT:  0.49 LIMIT2:  0.00013  | RIGHT: 295 | WRONG:  197  | SKIP:  1159  | RIGHT PERCENTAGE: 60.0 %\n",
      "LIMIT:  0.49 LIMIT2:  0.00014  | RIGHT: 289 | WRONG:  194  | SKIP:  1309  | RIGHT PERCENTAGE: 59.8 %\n",
      "LIMIT:  0.49 LIMIT2:  0.00015  | RIGHT: 280 | WRONG:  185  | SKIP:  1510  | RIGHT PERCENTAGE: 60.2 %\n",
      "LIMIT:  0.49 LIMIT2:  0.00015999999999999999  | RIGHT: 253 | WRONG:  170  | SKIP:  1745  | RIGHT PERCENTAGE: 59.8 %\n",
      "LIMIT:  0.49 LIMIT2:  0.00016999999999999999  | RIGHT: 225 | WRONG:  161  | SKIP:  1996  | RIGHT PERCENTAGE: 58.3 %\n",
      "LIMIT:  0.49 LIMIT2:  0.00017999999999999998  | RIGHT: 204 | WRONG:  154  | SKIP:  2255  | RIGHT PERCENTAGE: 57.0 %\n",
      "LIMIT:  0.49 LIMIT2:  0.00018999999999999998  | RIGHT: 191 | WRONG:  138  | SKIP:  2420  | RIGHT PERCENTAGE: 58.1 %\n",
      "LIMIT:  0.49 LIMIT2:  0.00019999999999999998  | RIGHT: 169 | WRONG:  126  | SKIP:  2566  | RIGHT PERCENTAGE: 57.3 %\n",
      "LIMIT:  0.49 LIMIT2:  0.00020999999999999998  | RIGHT: 142 | WRONG:  112  | SKIP:  2731  | RIGHT PERCENTAGE: 55.9 %\n",
      "LIMIT:  0.49 LIMIT2:  0.00021999999999999998  | RIGHT: 128 | WRONG:  108  | SKIP:  2866  | RIGHT PERCENTAGE: 54.2 %\n",
      "LIMIT:  0.49 LIMIT2:  0.00022999999999999998  | RIGHT: 119 | WRONG:  103  | SKIP:  2969  | RIGHT PERCENTAGE: 53.6 %\n",
      "LIMIT:  0.49 LIMIT2:  0.00023999999999999998  | RIGHT: 111 | WRONG:  100  | SKIP:  3043  | RIGHT PERCENTAGE: 52.6 %\n",
      "LIMIT:  0.49 LIMIT2:  0.00025  | RIGHT: 101 | WRONG:  97  | SKIP:  3125  | RIGHT PERCENTAGE: 51.0 %\n",
      "LIMIT:  0.49 LIMIT2:  0.00026  | RIGHT: 99 | WRONG:  91  | SKIP:  3200  | RIGHT PERCENTAGE: 52.1 %\n",
      "LIMIT:  0.49 LIMIT2:  0.00027  | RIGHT: 94 | WRONG:  83  | SKIP:  3286  | RIGHT PERCENTAGE: 53.1 %\n",
      "LIMIT:  0.49 LIMIT2:  0.00028  | RIGHT: 90 | WRONG:  63  | SKIP:  3391  | RIGHT PERCENTAGE: 58.8 %\n",
      "LIMIT:  0.49 LIMIT2:  0.00029  | RIGHT: 85 | WRONG:  55  | SKIP:  3462  | RIGHT PERCENTAGE: 60.7 %\n",
      "Average/Min/Max For LIMIT  0.49  :  57.0 / 51.0 / 60.7\n"
     ]
    }
   ],
   "source": [
    "#zlimit_test(pred,X_test,y_test)\n",
    "stddev_test(pred,X_test,y_test)"
   ]
  },
  {
   "cell_type": "code",
   "execution_count": null,
   "metadata": {},
   "outputs": [],
   "source": []
  },
  {
   "cell_type": "code",
   "execution_count": null,
   "metadata": {},
   "outputs": [],
   "source": []
  },
  {
   "cell_type": "code",
   "execution_count": null,
   "metadata": {},
   "outputs": [],
   "source": []
  },
  {
   "cell_type": "code",
   "execution_count": null,
   "metadata": {},
   "outputs": [],
   "source": []
  },
  {
   "cell_type": "code",
   "execution_count": null,
   "metadata": {},
   "outputs": [],
   "source": []
  },
  {
   "cell_type": "code",
   "execution_count": null,
   "metadata": {},
   "outputs": [],
   "source": []
  }
 ],
 "metadata": {
  "kernelspec": {
   "display_name": "Python 3",
   "language": "python",
   "name": "python3"
  },
  "language_info": {
   "codemirror_mode": {
    "name": "ipython",
    "version": 3
   },
   "file_extension": ".py",
   "mimetype": "text/x-python",
   "name": "python",
   "nbconvert_exporter": "python",
   "pygments_lexer": "ipython3",
   "version": "3.7.3"
  }
 },
 "nbformat": 4,
 "nbformat_minor": 2
}
